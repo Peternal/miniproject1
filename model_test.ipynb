{
 "cells": [
  {
   "cell_type": "code",
   "execution_count": 1,
   "metadata": {
    "pycharm": {
     "is_executing": true,
     "name": "#%%\n"
    }
   },
   "outputs": [],
   "source": [
    "import torch\n",
    "import torchvision\n",
    "from project1_model import project1_model\n",
    "from torchsummary import summary\n",
    "from torchtoolbox.transform import CIFAR10Policy\n",
    "from torchvision.transforms import Compose, RandomCrop, RandomHorizontalFlip, ToTensor, Normalize\n",
    "import matplotlib.pyplot as plt"
   ]
  },
  {
   "cell_type": "code",
   "execution_count": 2,
   "metadata": {
    "pycharm": {
     "is_executing": true
    }
   },
   "outputs": [
    {
     "name": "stdout",
     "output_type": "stream",
     "text": [
      "----------------------------------------------------------------\n",
      "        Layer (type)               Output Shape         Param #\n",
      "================================================================\n",
      "            Conv2d-1           [-1, 32, 32, 32]             864\n",
      "       BatchNorm2d-2           [-1, 32, 32, 32]              64\n",
      "            Conv2d-3           [-1, 32, 32, 32]           9,216\n",
      "       BatchNorm2d-4           [-1, 32, 32, 32]              64\n",
      "            Conv2d-5           [-1, 32, 32, 32]           9,216\n",
      "       BatchNorm2d-6           [-1, 32, 32, 32]              64\n",
      "        BasicBlock-7           [-1, 32, 32, 32]               0\n",
      "            Conv2d-8           [-1, 32, 32, 32]           9,216\n",
      "       BatchNorm2d-9           [-1, 32, 32, 32]              64\n",
      "           Conv2d-10           [-1, 32, 32, 32]           9,216\n",
      "      BatchNorm2d-11           [-1, 32, 32, 32]              64\n",
      "       BasicBlock-12           [-1, 32, 32, 32]               0\n",
      "           Conv2d-13           [-1, 32, 32, 32]           9,216\n",
      "      BatchNorm2d-14           [-1, 32, 32, 32]              64\n",
      "           Conv2d-15           [-1, 32, 32, 32]           9,216\n",
      "      BatchNorm2d-16           [-1, 32, 32, 32]              64\n",
      "       BasicBlock-17           [-1, 32, 32, 32]               0\n",
      "           Conv2d-18           [-1, 32, 32, 32]           9,216\n",
      "      BatchNorm2d-19           [-1, 32, 32, 32]              64\n",
      "           Conv2d-20           [-1, 32, 32, 32]           9,216\n",
      "      BatchNorm2d-21           [-1, 32, 32, 32]              64\n",
      "       BasicBlock-22           [-1, 32, 32, 32]               0\n",
      "           Conv2d-23           [-1, 32, 32, 32]           9,216\n",
      "      BatchNorm2d-24           [-1, 32, 32, 32]              64\n",
      "           Conv2d-25           [-1, 32, 32, 32]           9,216\n",
      "      BatchNorm2d-26           [-1, 32, 32, 32]              64\n",
      "       BasicBlock-27           [-1, 32, 32, 32]               0\n",
      "           Conv2d-28           [-1, 32, 32, 32]           9,216\n",
      "      BatchNorm2d-29           [-1, 32, 32, 32]              64\n",
      "           Conv2d-30           [-1, 32, 32, 32]           9,216\n",
      "      BatchNorm2d-31           [-1, 32, 32, 32]              64\n",
      "       BasicBlock-32           [-1, 32, 32, 32]               0\n",
      "           Conv2d-33           [-1, 32, 32, 32]           9,216\n",
      "      BatchNorm2d-34           [-1, 32, 32, 32]              64\n",
      "           Conv2d-35           [-1, 32, 32, 32]           9,216\n",
      "      BatchNorm2d-36           [-1, 32, 32, 32]              64\n",
      "       BasicBlock-37           [-1, 32, 32, 32]               0\n",
      "           Conv2d-38           [-1, 32, 32, 32]           9,216\n",
      "      BatchNorm2d-39           [-1, 32, 32, 32]              64\n",
      "           Conv2d-40           [-1, 32, 32, 32]           9,216\n",
      "      BatchNorm2d-41           [-1, 32, 32, 32]              64\n",
      "       BasicBlock-42           [-1, 32, 32, 32]               0\n",
      "           Conv2d-43           [-1, 32, 32, 32]           9,216\n",
      "      BatchNorm2d-44           [-1, 32, 32, 32]              64\n",
      "           Conv2d-45           [-1, 32, 32, 32]           9,216\n",
      "      BatchNorm2d-46           [-1, 32, 32, 32]              64\n",
      "       BasicBlock-47           [-1, 32, 32, 32]               0\n",
      "           Conv2d-48           [-1, 64, 16, 16]          18,432\n",
      "      BatchNorm2d-49           [-1, 64, 16, 16]             128\n",
      "           Conv2d-50           [-1, 64, 16, 16]          36,864\n",
      "      BatchNorm2d-51           [-1, 64, 16, 16]             128\n",
      "           Conv2d-52           [-1, 64, 16, 16]           2,048\n",
      "      BatchNorm2d-53           [-1, 64, 16, 16]             128\n",
      "       BasicBlock-54           [-1, 64, 16, 16]               0\n",
      "           Conv2d-55           [-1, 64, 16, 16]          36,864\n",
      "      BatchNorm2d-56           [-1, 64, 16, 16]             128\n",
      "           Conv2d-57           [-1, 64, 16, 16]          36,864\n",
      "      BatchNorm2d-58           [-1, 64, 16, 16]             128\n",
      "       BasicBlock-59           [-1, 64, 16, 16]               0\n",
      "           Conv2d-60           [-1, 64, 16, 16]          36,864\n",
      "      BatchNorm2d-61           [-1, 64, 16, 16]             128\n",
      "           Conv2d-62           [-1, 64, 16, 16]          36,864\n",
      "      BatchNorm2d-63           [-1, 64, 16, 16]             128\n",
      "       BasicBlock-64           [-1, 64, 16, 16]               0\n",
      "           Conv2d-65           [-1, 64, 16, 16]          36,864\n",
      "      BatchNorm2d-66           [-1, 64, 16, 16]             128\n",
      "           Conv2d-67           [-1, 64, 16, 16]          36,864\n",
      "      BatchNorm2d-68           [-1, 64, 16, 16]             128\n",
      "       BasicBlock-69           [-1, 64, 16, 16]               0\n",
      "           Conv2d-70           [-1, 64, 16, 16]          36,864\n",
      "      BatchNorm2d-71           [-1, 64, 16, 16]             128\n",
      "           Conv2d-72           [-1, 64, 16, 16]          36,864\n",
      "      BatchNorm2d-73           [-1, 64, 16, 16]             128\n",
      "       BasicBlock-74           [-1, 64, 16, 16]               0\n",
      "           Conv2d-75           [-1, 64, 16, 16]          36,864\n",
      "      BatchNorm2d-76           [-1, 64, 16, 16]             128\n",
      "           Conv2d-77           [-1, 64, 16, 16]          36,864\n",
      "      BatchNorm2d-78           [-1, 64, 16, 16]             128\n",
      "       BasicBlock-79           [-1, 64, 16, 16]               0\n",
      "           Conv2d-80            [-1, 128, 8, 8]          73,728\n",
      "      BatchNorm2d-81            [-1, 128, 8, 8]             256\n",
      "           Conv2d-82            [-1, 128, 8, 8]         147,456\n",
      "      BatchNorm2d-83            [-1, 128, 8, 8]             256\n",
      "           Conv2d-84            [-1, 128, 8, 8]           8,192\n",
      "      BatchNorm2d-85            [-1, 128, 8, 8]             256\n",
      "       BasicBlock-86            [-1, 128, 8, 8]               0\n",
      "           Conv2d-87            [-1, 128, 8, 8]         147,456\n",
      "      BatchNorm2d-88            [-1, 128, 8, 8]             256\n",
      "           Conv2d-89            [-1, 128, 8, 8]         147,456\n",
      "      BatchNorm2d-90            [-1, 128, 8, 8]             256\n",
      "       BasicBlock-91            [-1, 128, 8, 8]               0\n",
      "           Conv2d-92            [-1, 128, 8, 8]         147,456\n",
      "      BatchNorm2d-93            [-1, 128, 8, 8]             256\n",
      "           Conv2d-94            [-1, 128, 8, 8]         147,456\n",
      "      BatchNorm2d-95            [-1, 128, 8, 8]             256\n",
      "       BasicBlock-96            [-1, 128, 8, 8]               0\n",
      "           Conv2d-97            [-1, 128, 8, 8]         147,456\n",
      "      BatchNorm2d-98            [-1, 128, 8, 8]             256\n",
      "           Conv2d-99            [-1, 128, 8, 8]         147,456\n",
      "     BatchNorm2d-100            [-1, 128, 8, 8]             256\n",
      "      BasicBlock-101            [-1, 128, 8, 8]               0\n",
      "          Conv2d-102            [-1, 256, 4, 4]         294,912\n",
      "     BatchNorm2d-103            [-1, 256, 4, 4]             512\n",
      "          Conv2d-104            [-1, 256, 4, 4]         589,824\n",
      "     BatchNorm2d-105            [-1, 256, 4, 4]             512\n",
      "          Conv2d-106            [-1, 256, 4, 4]          32,768\n",
      "     BatchNorm2d-107            [-1, 256, 4, 4]             512\n",
      "      BasicBlock-108            [-1, 256, 4, 4]               0\n",
      "          Conv2d-109            [-1, 256, 4, 4]         589,824\n",
      "     BatchNorm2d-110            [-1, 256, 4, 4]             512\n",
      "          Conv2d-111            [-1, 256, 4, 4]         589,824\n",
      "     BatchNorm2d-112            [-1, 256, 4, 4]             512\n",
      "      BasicBlock-113            [-1, 256, 4, 4]               0\n",
      "          Conv2d-114            [-1, 256, 4, 4]         589,824\n",
      "     BatchNorm2d-115            [-1, 256, 4, 4]             512\n",
      "          Conv2d-116            [-1, 256, 4, 4]         589,824\n",
      "     BatchNorm2d-117            [-1, 256, 4, 4]             512\n",
      "      BasicBlock-118            [-1, 256, 4, 4]               0\n",
      "          Linear-119                   [-1, 10]           2,570\n",
      "================================================================\n",
      "Total params: 4,994,986\n",
      "Trainable params: 4,994,986\n",
      "Non-trainable params: 0\n",
      "----------------------------------------------------------------\n",
      "Input size (MB): 0.01\n",
      "Forward/backward pass size (MB): 17.66\n",
      "Params size (MB): 19.05\n",
      "Estimated Total Size (MB): 36.72\n",
      "----------------------------------------------------------------\n"
     ]
    }
   ],
   "source": [
    "model = project1_model().cuda()\n",
    "summary(model, input_size=[(3, 32, 32)])"
   ]
  },
  {
   "cell_type": "code",
   "execution_count": 3,
   "metadata": {
    "pycharm": {
     "is_executing": true
    }
   },
   "outputs": [],
   "source": [
    "Epoch = 160\n",
    "Batch_size = 128\n",
    "Loss = torch.nn.CrossEntropyLoss()\n",
    "optimizer = torch.optim.NAdam(model.parameters(), lr=3e-4, weight_decay=5e-4)"
   ]
  },
  {
   "cell_type": "code",
   "execution_count": 4,
   "metadata": {
    "pycharm": {
     "is_executing": true
    }
   },
   "outputs": [
    {
     "name": "stdout",
     "output_type": "stream",
     "text": [
      "Files already downloaded and verified\n",
      "Files already downloaded and verified\n"
     ]
    }
   ],
   "source": [
    "transform_train = Compose(\n",
    "        [RandomCrop(32, padding=4), RandomHorizontalFlip(), CIFAR10Policy,\n",
    "         ToTensor(), Normalize(mean=[0.491, 0.482, 0.446], std=[0.247, 0.243, 0.261])])\n",
    "transform_test = Compose(\n",
    "        [ToTensor(), Normalize(mean=[0.491, 0.482, 0.446], std=[0.247, 0.243, 0.261])])\n",
    "trainingdata = torchvision.datasets.CIFAR10('./CIFAR10/', train=True, download=True, transform=transform_train)\n",
    "testdata = torchvision.datasets.CIFAR10('./CIFAR10/', train=False, download=True, transform=transform_test)\n",
    "\n",
    "\n",
    "trainDataLoader = torch.utils.data.DataLoader(trainingdata, Batch_size, shuffle=True)\n",
    "testDataLoader = torch.utils.data.DataLoader(testdata, Batch_size, shuffle=False)"
   ]
  },
  {
   "cell_type": "code",
   "execution_count": 5,
   "metadata": {
    "pycharm": {
     "is_executing": true
    }
   },
   "outputs": [
    {
     "name": "stdout",
     "output_type": "stream",
     "text": [
      "Epoch 0, Train loss 1.7972993472652972, Test loss 1.4183503012113934, Test acc 0.4928\n",
      "Epoch 1, Train loss 1.3184963193390986, Test loss 1.0781843813159797, Test acc 0.6217\n",
      "Epoch 2, Train loss 1.0732079492810438, Test loss 0.8540721897837482, Test acc 0.7019\n",
      "Epoch 3, Train loss 0.9245960162118878, Test loss 0.7533146014696435, Test acc 0.7433\n",
      "Epoch 4, Train loss 0.8353531728010348, Test loss 0.710666268686705, Test acc 0.7543\n",
      "Epoch 5, Train loss 0.7597322370237707, Test loss 0.621739223033567, Test acc 0.7883\n",
      "Epoch 6, Train loss 0.7261249804130906, Test loss 0.6190115892434422, Test acc 0.7894\n",
      "Epoch 7, Train loss 0.6805170125058849, Test loss 0.5788671740248233, Test acc 0.8041\n",
      "Epoch 8, Train loss 0.6496311731045813, Test loss 0.530463308095932, Test acc 0.8201\n",
      "Epoch 9, Train loss 0.6250100396478268, Test loss 0.5271958388105223, Test acc 0.8183\n",
      "Epoch 10, Train loss 0.6048257940870416, Test loss 0.5197106350826312, Test acc 0.8211\n",
      "Epoch 11, Train loss 0.581998159208566, Test loss 0.47578867175911044, Test acc 0.8405\n",
      "Epoch 12, Train loss 0.5655643569538965, Test loss 0.4765025924278211, Test acc 0.8359\n",
      "Epoch 13, Train loss 0.544880268518882, Test loss 0.4499632542646384, Test acc 0.8477\n",
      "Epoch 14, Train loss 0.5356434764307173, Test loss 0.45615703433374816, Test acc 0.8439\n",
      "Epoch 15, Train loss 0.517667667868802, Test loss 0.41550824800624125, Test acc 0.8596\n",
      "Epoch 16, Train loss 0.5036823112336571, Test loss 0.41645425029947786, Test acc 0.8615\n",
      "Epoch 17, Train loss 0.4919311931675962, Test loss 0.4153234106075915, Test acc 0.8584\n",
      "Epoch 18, Train loss 0.4813705968582417, Test loss 0.4227135898191718, Test acc 0.8561\n",
      "Epoch 19, Train loss 0.4660592825363969, Test loss 0.3846851211937168, Test acc 0.8722\n",
      "Epoch 20, Train loss 0.46155419191131203, Test loss 0.3828621465194074, Test acc 0.8695\n",
      "Epoch 21, Train loss 0.45306609292774247, Test loss 0.392684366318244, Test acc 0.8652\n",
      "Epoch 22, Train loss 0.4434881057123394, Test loss 0.369541751810267, Test acc 0.8742\n",
      "Epoch 23, Train loss 0.4417520964999333, Test loss 0.37689458173287066, Test acc 0.8728\n",
      "Epoch 24, Train loss 0.4306358896253054, Test loss 0.38085594735568085, Test acc 0.872\n",
      "Epoch 25, Train loss 0.42235935336488595, Test loss 0.3718026331331156, Test acc 0.8764\n",
      "Epoch 26, Train loss 0.42072120057347484, Test loss 0.3700237881533707, Test acc 0.8738\n",
      "Epoch 27, Train loss 0.40949476759909365, Test loss 0.36017345156096203, Test acc 0.8759\n",
      "Epoch 28, Train loss 0.40111893663168563, Test loss 0.3670725605533093, Test acc 0.8814\n",
      "Epoch 29, Train loss 0.40191412250251723, Test loss 0.3531133325039586, Test acc 0.8809\n",
      "Epoch 30, Train loss 0.39514177294490893, Test loss 0.3549335738526115, Test acc 0.8812\n",
      "Epoch 31, Train loss 0.3853051988288875, Test loss 0.3490370427128635, Test acc 0.8846\n",
      "Epoch 32, Train loss 0.3845816862476451, Test loss 0.34482422508770905, Test acc 0.885\n",
      "Epoch 33, Train loss 0.38079907491688836, Test loss 0.3462551439864726, Test acc 0.8825\n",
      "Epoch 34, Train loss 0.37034133255786605, Test loss 0.338728074597407, Test acc 0.8887\n",
      "Epoch 35, Train loss 0.375014259572834, Test loss 0.34041063317769693, Test acc 0.8849\n",
      "Epoch 36, Train loss 0.3650581199875878, Test loss 0.3207430343461942, Test acc 0.8938\n",
      "Epoch 37, Train loss 0.35947224897954166, Test loss 0.34368318998360936, Test acc 0.8848\n",
      "Epoch 38, Train loss 0.3540088552648149, Test loss 0.32385890280144125, Test acc 0.8924\n",
      "Epoch 39, Train loss 0.35686551278357004, Test loss 0.3268008177416234, Test acc 0.8916\n",
      "Epoch 40, Train loss 0.34603445483443074, Test loss 0.33020024058185043, Test acc 0.8872\n",
      "Epoch 41, Train loss 0.3502807318783172, Test loss 0.30827065246014657, Test acc 0.8965\n",
      "Epoch 42, Train loss 0.34440472962148966, Test loss 0.3304435859752607, Test acc 0.8917\n",
      "Epoch 43, Train loss 0.34161410520753593, Test loss 0.32720663502246516, Test acc 0.8879\n",
      "Epoch 44, Train loss 0.33834079239526976, Test loss 0.31964781446547447, Test acc 0.8944\n",
      "Epoch 45, Train loss 0.33342055157017525, Test loss 0.32386328355420996, Test acc 0.8945\n",
      "Epoch 46, Train loss 0.3343998913646049, Test loss 0.31109257231030285, Test acc 0.894\n",
      "Epoch 47, Train loss 0.33151312241011566, Test loss 0.3278001260153855, Test acc 0.8908\n",
      "Epoch 48, Train loss 0.3208998272867154, Test loss 0.3203940880072268, Test acc 0.8949\n",
      "Epoch 49, Train loss 0.3239592569487174, Test loss 0.3184625762927381, Test acc 0.8898\n",
      "Epoch 50, Train loss 0.32150737785012523, Test loss 0.3294857532917699, Test acc 0.889\n",
      "Epoch 51, Train loss 0.32235190619135756, Test loss 0.2981268158064613, Test acc 0.8962\n",
      "Epoch 52, Train loss 0.3170713672552572, Test loss 0.30735786862765685, Test acc 0.8981\n",
      "Epoch 53, Train loss 0.3162363374324711, Test loss 0.2967437950870659, Test acc 0.9009\n",
      "Epoch 54, Train loss 0.3113232849504027, Test loss 0.3051861839581139, Test acc 0.8978\n",
      "Epoch 55, Train loss 0.308574751819796, Test loss 0.2974225061980984, Test acc 0.9015\n",
      "Epoch 56, Train loss 0.3029268719732304, Test loss 0.32492998751658425, Test acc 0.8938\n",
      "Epoch 57, Train loss 0.303112329653157, Test loss 0.288926010267644, Test acc 0.9035\n",
      "Epoch 58, Train loss 0.30635888268575645, Test loss 0.3013107618199119, Test acc 0.9011\n",
      "Epoch 59, Train loss 0.3085819239659078, Test loss 0.32984405246716514, Test acc 0.895\n",
      "Epoch 60, Train loss 0.30039060592194045, Test loss 0.30077170910714546, Test acc 0.8985\n",
      "Epoch 61, Train loss 0.2992713146121301, Test loss 0.2929650116947633, Test acc 0.9031\n",
      "Epoch 62, Train loss 0.2947402399442995, Test loss 0.29188265113890927, Test acc 0.9042\n",
      "Epoch 63, Train loss 0.296825118991725, Test loss 0.29547612878340707, Test acc 0.9015\n",
      "Epoch 64, Train loss 0.291363202321255, Test loss 0.2948219674297526, Test acc 0.9013\n",
      "Epoch 65, Train loss 0.2860178150560545, Test loss 0.2786967893944511, Test acc 0.9058\n",
      "Epoch 66, Train loss 0.28845200087408274, Test loss 0.28447376795207396, Test acc 0.9057\n",
      "Epoch 67, Train loss 0.2891793844035214, Test loss 0.30132427038271214, Test acc 0.8998\n",
      "Epoch 68, Train loss 0.28546667411504195, Test loss 0.28982579368579237, Test acc 0.9045\n",
      "Epoch 69, Train loss 0.2874667144873563, Test loss 0.2869363396982603, Test acc 0.9036\n",
      "Epoch 70, Train loss 0.2859663403857395, Test loss 0.2716865962064719, Test acc 0.9114\n",
      "Epoch 71, Train loss 0.2859972182975706, Test loss 0.2971004077905341, Test acc 0.9038\n",
      "Epoch 72, Train loss 0.2806131445309695, Test loss 0.2805811792046209, Test acc 0.9086\n",
      "Epoch 73, Train loss 0.28693299128881194, Test loss 0.2877910091907163, Test acc 0.903\n",
      "Epoch 74, Train loss 0.2793628291972458, Test loss 0.2890195254283615, Test acc 0.9047\n",
      "Epoch 75, Train loss 0.2774457467334045, Test loss 0.2895783602814131, Test acc 0.9035\n",
      "Epoch 76, Train loss 0.27569491301884735, Test loss 0.3035642007672334, Test acc 0.9011\n",
      "Epoch 77, Train loss 0.27367507424348453, Test loss 0.2712807908088346, Test acc 0.909\n",
      "Epoch 78, Train loss 0.27925798296928406, Test loss 0.28192075822926776, Test acc 0.9065\n",
      "Epoch 79, Train loss 0.27404139560582996, Test loss 0.28952498639686197, Test acc 0.9051\n",
      "Epoch 80, Train loss 0.2775499018676141, Test loss 0.29304661158519457, Test acc 0.9024\n",
      "Epoch 81, Train loss 0.2686202544004411, Test loss 0.27845203923650935, Test acc 0.9048\n",
      "Epoch 82, Train loss 0.2694611790425637, Test loss 0.2834516506217703, Test acc 0.9065\n",
      "Epoch 83, Train loss 0.26898529195724546, Test loss 0.28926182924946653, Test acc 0.9038\n",
      "Epoch 84, Train loss 0.2671986482179988, Test loss 0.29214194115204145, Test acc 0.9064\n",
      "Epoch 85, Train loss 0.2706633582139564, Test loss 0.2693316614891909, Test acc 0.9127\n",
      "Epoch 86, Train loss 0.27377558289967535, Test loss 0.27591144529324546, Test acc 0.9106\n",
      "Epoch 87, Train loss 0.26863336545960675, Test loss 0.27884934936897665, Test acc 0.9108\n",
      "Epoch 88, Train loss 0.2684831984741304, Test loss 0.28448336033881466, Test acc 0.9056\n",
      "Epoch 89, Train loss 0.2634043984134179, Test loss 0.3074304708574392, Test acc 0.9026\n",
      "Epoch 90, Train loss 0.25987919841123663, Test loss 0.2701352727186831, Test acc 0.9101\n",
      "Epoch 91, Train loss 0.26845598620984257, Test loss 0.2823811116852338, Test acc 0.9056\n",
      "Epoch 92, Train loss 0.25723962066576, Test loss 0.28003712073911596, Test acc 0.9066\n",
      "Epoch 93, Train loss 0.2651383837356287, Test loss 0.2844067214033272, Test acc 0.9067\n",
      "Epoch 94, Train loss 0.2574520474657073, Test loss 0.2703541150387329, Test acc 0.9118\n",
      "Epoch 95, Train loss 0.2596093920986061, Test loss 0.2756845573835735, Test acc 0.9095\n",
      "Epoch 96, Train loss 0.2589978372387569, Test loss 0.27220912372009665, Test acc 0.9089\n",
      "Epoch 97, Train loss 0.2583464994797926, Test loss 0.2797562335676785, Test acc 0.911\n",
      "Epoch 98, Train loss 0.25603950791575414, Test loss 0.30210198348836054, Test acc 0.9057\n",
      "Epoch 99, Train loss 0.2594621012468472, Test loss 0.2800239913071258, Test acc 0.9124\n",
      "Epoch 100, Train loss 0.25580520327667444, Test loss 0.27347979920951626, Test acc 0.911\n",
      "Epoch 101, Train loss 0.2541710296097924, Test loss 0.2927790855682349, Test acc 0.909\n",
      "Epoch 102, Train loss 0.2575225975278698, Test loss 0.29434852226625513, Test acc 0.9036\n",
      "Epoch 103, Train loss 0.255797856222943, Test loss 0.2740892451963847, Test acc 0.9088\n",
      "Epoch 104, Train loss 0.25328640536883906, Test loss 0.3004013137726844, Test acc 0.9038\n",
      "Epoch 105, Train loss 0.25957115547126514, Test loss 0.2752226209150085, Test acc 0.9096\n",
      "Epoch 106, Train loss 0.25164292263024296, Test loss 0.2858043161185482, Test acc 0.9054\n",
      "Epoch 107, Train loss 0.24828543218657795, Test loss 0.2723006127001364, Test acc 0.909\n",
      "Epoch 108, Train loss 0.2501756867865467, Test loss 0.2739858115209809, Test acc 0.9098\n",
      "Epoch 109, Train loss 0.2525599575827799, Test loss 0.28951473062551475, Test acc 0.9062\n",
      "Epoch 110, Train loss 0.2490334893050401, Test loss 0.2722189376437211, Test acc 0.9099\n",
      "Epoch 111, Train loss 0.25022324487147735, Test loss 0.258254500884044, Test acc 0.9139\n",
      "Epoch 112, Train loss 0.2505119020486122, Test loss 0.3062608389160301, Test acc 0.9021\n",
      "Epoch 113, Train loss 0.24974759321307283, Test loss 0.26893471973606303, Test acc 0.9122\n",
      "Epoch 114, Train loss 0.24678680666572297, Test loss 0.27014035957900784, Test acc 0.9106\n",
      "Epoch 115, Train loss 0.24779806731988097, Test loss 0.27380396397430684, Test acc 0.9074\n",
      "Epoch 116, Train loss 0.2466407251136992, Test loss 0.26994534157499483, Test acc 0.9139\n",
      "Epoch 117, Train loss 0.24371036077323166, Test loss 0.27884765723838084, Test acc 0.9126\n",
      "Epoch 118, Train loss 0.2416168883862093, Test loss 0.26351030981993373, Test acc 0.9156\n",
      "Epoch 119, Train loss 0.2479654774069786, Test loss 0.2826587784139416, Test acc 0.9071\n",
      "Epoch 120, Train loss 0.2425491986867717, Test loss 0.2803541001262544, Test acc 0.9115\n",
      "Epoch 121, Train loss 0.24700661295134088, Test loss 0.28367321749653995, Test acc 0.9091\n",
      "Epoch 122, Train loss 0.24194844751178152, Test loss 0.27185018190854715, Test acc 0.9121\n",
      "Epoch 123, Train loss 0.2440952853968991, Test loss 0.27233472843713397, Test acc 0.9097\n",
      "Epoch 124, Train loss 0.2407655189066287, Test loss 0.283926166311095, Test acc 0.9077\n",
      "Epoch 125, Train loss 0.24229062905015847, Test loss 0.2666919616204274, Test acc 0.9127\n",
      "Epoch 126, Train loss 0.24443824372023268, Test loss 0.2657004698545118, Test acc 0.9124\n",
      "Epoch 127, Train loss 0.24108294786318488, Test loss 0.28355680764475955, Test acc 0.9073\n",
      "Epoch 128, Train loss 0.2398054050400739, Test loss 0.2684918511894685, Test acc 0.9152\n",
      "Epoch 129, Train loss 0.2460732421911586, Test loss 0.2679307213689707, Test acc 0.9152\n",
      "Epoch 130, Train loss 0.24569136188234514, Test loss 0.27043881965211675, Test acc 0.9146\n",
      "Epoch 131, Train loss 0.24186612267399688, Test loss 0.2682018114041679, Test acc 0.9145\n",
      "Epoch 132, Train loss 0.23754727152531105, Test loss 0.26856158956696713, Test acc 0.9144\n",
      "Epoch 133, Train loss 0.2415835414929768, Test loss 0.26690792018854165, Test acc 0.9123\n",
      "Epoch 134, Train loss 0.24118301076123783, Test loss 0.25740503821569155, Test acc 0.9166\n",
      "Epoch 135, Train loss 0.23461289048347328, Test loss 0.26820762512050095, Test acc 0.915\n",
      "Epoch 136, Train loss 0.2425921362303102, Test loss 0.2757616531622561, Test acc 0.9118\n",
      "Epoch 137, Train loss 0.2363397590530193, Test loss 0.25935746323836, Test acc 0.9175\n",
      "Epoch 138, Train loss 0.23832810222340362, Test loss 0.2831083143813701, Test acc 0.9108\n",
      "Epoch 139, Train loss 0.23911957511359164, Test loss 0.26517426778998554, Test acc 0.9126\n",
      "Epoch 140, Train loss 0.23102541729007536, Test loss 0.2759099527250362, Test acc 0.9126\n",
      "Epoch 141, Train loss 0.2380896042222562, Test loss 0.2758162028238743, Test acc 0.9089\n",
      "Epoch 142, Train loss 0.23524876615351728, Test loss 0.2774930490723139, Test acc 0.9102\n",
      "Epoch 143, Train loss 0.2366550602876317, Test loss 0.27650711826885804, Test acc 0.9128\n",
      "Epoch 144, Train loss 0.2281675797022517, Test loss 0.2713109824476363, Test acc 0.9123\n",
      "Epoch 145, Train loss 0.2338811065001256, Test loss 0.26502586514512194, Test acc 0.9133\n",
      "Epoch 146, Train loss 0.2335497934914306, Test loss 0.2468346073469029, Test acc 0.9216\n",
      "Epoch 147, Train loss 0.23174506250549765, Test loss 0.26262895215915727, Test acc 0.9163\n",
      "Epoch 148, Train loss 0.23175877652814625, Test loss 0.2606585583166231, Test acc 0.9169\n",
      "Epoch 149, Train loss 0.2293906779507237, Test loss 0.27304437662227243, Test acc 0.9128\n",
      "Epoch 150, Train loss 0.232912456859713, Test loss 0.2640164665217641, Test acc 0.9164\n",
      "Epoch 151, Train loss 0.23079604022871808, Test loss 0.25862635521194605, Test acc 0.9199\n",
      "Epoch 152, Train loss 0.23134152705559646, Test loss 0.2584441091063656, Test acc 0.9162\n",
      "Epoch 153, Train loss 0.22576817205113828, Test loss 0.2845993993591659, Test acc 0.9099\n",
      "Epoch 154, Train loss 0.23155094404964496, Test loss 0.25486610037616536, Test acc 0.9169\n",
      "Epoch 155, Train loss 0.22978968916417997, Test loss 0.2612987056940417, Test acc 0.9172\n",
      "Epoch 156, Train loss 0.23233253083875416, Test loss 0.2540791985354846, Test acc 0.916\n",
      "Epoch 157, Train loss 0.22782342581797743, Test loss 0.2644945263296743, Test acc 0.9156\n",
      "Epoch 158, Train loss 0.23166226496553177, Test loss 0.27108579751434203, Test acc 0.9119\n",
      "Epoch 159, Train loss 0.22985805311928625, Test loss 0.28107636695421195, Test acc 0.9073\n",
      "6110057.5\n"
     ]
    }
   ],
   "source": [
    "start = torch.cuda.Event(enable_timing=True)\n",
    "end = torch.cuda.Event(enable_timing=True)\n",
    "\n",
    "train_loss_history = []\n",
    "test_loss_history = []\n",
    "test_acc_history = []\n",
    "\n",
    "start.record()\n",
    "\n",
    "for epoch in range(Epoch):\n",
    "    train_loss = 0.0\n",
    "    test_loss = 0.0\n",
    "    test_acc = 0.0\n",
    "\n",
    "    train_total = 0.0\n",
    "    test_total = 0.0\n",
    "\n",
    "    for i, data in enumerate(trainDataLoader):\n",
    "        x, labels = data\n",
    "        x = x.cuda()\n",
    "        train_total+=labels.size(0)\n",
    "        labels = labels.cuda()\n",
    "        optimizer.zero_grad()\n",
    "        predicted_output = model(x)\n",
    "        fit = Loss(predicted_output, labels)\n",
    "        fit.backward()\n",
    "        optimizer.step()\n",
    "        train_loss += fit.item()\n",
    "\n",
    "    for i, data in enumerate(testDataLoader):\n",
    "        with torch.no_grad():\n",
    "            x, labels = data\n",
    "            test_total += labels.size(0)\n",
    "            x = x.cuda()\n",
    "            labels = labels.cuda()\n",
    "            predicted_output = model(x)\n",
    "            fit = Loss(predicted_output, labels)\n",
    "            test_loss += fit.item()\n",
    "            test_acc += (torch.eq(torch.max(predicted_output, 1)[1], labels).sum()).data.cpu().numpy()\n",
    "\n",
    "    train_loss = train_loss / len(trainDataLoader)\n",
    "    test_loss = test_loss / len(testDataLoader)\n",
    "    test_acc = test_acc / test_total\n",
    "\n",
    "    train_loss_history.append(train_loss)\n",
    "    test_loss_history.append(test_loss)\n",
    "    test_acc_history.append(test_acc)\n",
    "\n",
    "    print('Epoch %s, Train loss %s, Test loss %s, Test acc %s' % (epoch, train_loss, test_loss, test_acc))\n",
    "\n",
    "end.record()\n",
    "torch.cuda.synchronize()\n",
    "print(start.elapsed_time(end))"
   ]
  },
  {
   "cell_type": "code",
   "execution_count": 6,
   "metadata": {
    "pycharm": {
     "is_executing": true
    }
   },
   "outputs": [
    {
     "data": {
      "text/plain": [
       "<matplotlib.legend.Legend at 0x15116bc27790>"
      ]
     },
     "execution_count": 6,
     "metadata": {},
     "output_type": "execute_result"
    },
    {
     "data": {
      "image/png": "[encoded data removed]",
      "text/plain": [
       "<Figure size 432x288 with 1 Axes>"
      ]
     },
     "metadata": {
      "needs_background": "light"
     },
     "output_type": "display_data"
    }
   ],
   "source": [
    "plt.plot(range(Epoch), train_loss_history, '-', linewidth=1, label='Train error')\n",
    "plt.plot(range(Epoch), test_loss_history, '-', linewidth=1, label='Test error')\n",
    "plt.xlabel('epoch')\n",
    "plt.ylabel('loss')\n",
    "plt.grid(True)\n",
    "plt.legend()"
   ]
  },
  {
   "cell_type": "code",
   "execution_count": 7,
   "metadata": {
    "pycharm": {
     "is_executing": true
    }
   },
   "outputs": [
    {
     "data": {
      "text/plain": [
       "<matplotlib.legend.Legend at 0x15116bab82b0>"
      ]
     },
     "execution_count": 7,
     "metadata": {},
     "output_type": "execute_result"
    },
    {
     "data": {
      "image/png": "[encoded data removed]",
      "text/plain": [
       "<Figure size 432x288 with 1 Axes>"
      ]
     },
     "metadata": {
      "needs_background": "light"
     },
     "output_type": "display_data"
    }
   ],
   "source": [
    "plt.plot(range(Epoch), test_acc_history, '-', linewidth=1, label='Test Accuracy')\n",
    "plt.xlabel('epoch')\n",
    "plt.ylabel('accuracy')\n",
    "plt.grid(True)\n",
    "plt.legend()"
   ]
  },
  {
   "cell_type": "code",
   "execution_count": 8,
   "metadata": {},
   "outputs": [
    {
     "name": "stdout",
     "output_type": "stream",
     "text": [
      "Best Test acc: 0.9216\n"
     ]
    }
   ],
   "source": [
    "print('Best Test acc: %s' % (max(test_acc_history)))"
   ]
  },
  {
   "cell_type": "code",
   "execution_count": 9,
   "metadata": {
    "pycharm": {
     "is_executing": true,
     "name": "#%%\n"
    }
   },
   "outputs": [],
   "source": [
    "model_path = './project1_model.pt'\n",
    "torch.save(model.state_dict(), model_path)"
   ]
  },
  {
   "cell_type": "code",
   "execution_count": null,
   "metadata": {},
   "outputs": [],
   "source": []
  }
 ],
 "metadata": {
  "kernelspec": {
   "display_name": "my_env",
   "language": "python",
   "name": "my_env"
  },
  "language_info": {
   "codemirror_mode": {
    "name": "ipython",
    "version": 3
   },
   "file_extension": ".py",
   "mimetype": "text/x-python",
   "name": "python",
   "nbconvert_exporter": "python",
   "pygments_lexer": "ipython3",
   "version": "3.9.7"
  }
 },
 "nbformat": 4,
 "nbformat_minor": 4
}
